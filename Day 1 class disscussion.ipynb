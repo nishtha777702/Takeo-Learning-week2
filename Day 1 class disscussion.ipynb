{
 "cells": [
  {
   "cell_type": "markdown",
   "id": "97b94e24-e923-4b95-ba2e-afa0fa782b02",
   "metadata": {},
   "source": [
    "# API \n",
    "-Application programming interface\n",
    "-Front end interaction with Backend\n",
    "-website = DOGS CEO - DOGS APLI - fetch  images of dogs "
   ]
  },
  {
   "cell_type": "markdown",
   "id": "07218594-4077-4f40-9794-b4f3e337fcda",
   "metadata": {},
   "source": [
    "# make a get request to fetch data\n",
    "url :\"https://fiber.google.com/\"\n",
    "response = requests.get(url)\n",
    "print(reponse)"
   ]
  },
  {
   "cell_type": "code",
   "execution_count": 23,
   "id": "664a4609-869a-4872-828d-209cbc301cd1",
   "metadata": {},
   "outputs": [],
   "source": [
    "# Create \n",
    "\n",
    "import sqlite3 as sql\n",
    "\n",
    "# conncet to a database \n",
    "connection = sql.connect('BDAT.db')\n",
    "\n",
    "#create a cursor object using the conncetion. A cursor is a control structure that enables to fetch result from the database.The cursor acts as an intermediary between the connection and the SQL query.\n",
    "\n",
    "cursor = connection.cursor() "
   ]
  },
  {
   "cell_type": "code",
   "execution_count": 24,
   "id": "1873d41e-88d5-4ac5-970d-d1562b4d163a",
   "metadata": {},
   "outputs": [],
   "source": [
    "# commit the change and close the connection\n",
    "connection.commit()"
   ]
  },
  {
   "cell_type": "code",
   "execution_count": 25,
   "id": "a4fb47d4-f89e-4047-abe2-0bfef8e8d662",
   "metadata": {},
   "outputs": [],
   "source": [
    "import sqlite3\n",
    "\n",
    "# Connect to SQLite database (or create it if it doesn't exist)\n",
    "connection = sqlite3.connect(\"BDA.db\")\n",
    "\n",
    "# Create a cursor object to interact with the database\n",
    "cursor = connection.cursor()\n",
    "\n",
    "# Create table if it doesn't exist\n",
    "cursor.execute('''CREATE TABLE IF NOT EXISTS people (\n",
    "                    id INTEGER PRIMARY KEY AUTOINCREMENT,\n",
    "                    name TEXT,\n",
    "                    age INTEGER,\n",
    "                    city TEXT)''')\n",
    "\n",
    "# Insert data using parameterized queries to prevent SQL injection\n",
    "cursor.execute(\"INSERT INTO people (name, age, city) VALUES ('all', 31, 'CANADA')\")\n",
    "cursor.execute(\"INSERT INTO people (name, age, city) VALUES ('John', 25, 'USA')\")\n",
    "\n",
    "# Commit the changes\n",
    "connection.commit()"
   ]
  },
  {
   "cell_type": "code",
   "execution_count": 26,
   "id": "b071949b-375c-41fb-b21e-76d9ee08e765",
   "metadata": {},
   "outputs": [
    {
     "name": "stdout",
     "output_type": "stream",
     "text": [
      "(1, 'all', 31, 'CANADA')\n",
      "(2, 'all', 31, 'CANADA')\n",
      "(3, 'all', 31, 'CANADA')\n",
      "(4, 'John', 25, 'USA')\n",
      "(5, 'all', 31, 'CANADA')\n",
      "(6, 'John', 25, 'USA')\n",
      "(7, 'all', 31, 'CANADA')\n",
      "(8, 'John', 25, 'USA')\n"
     ]
    }
   ],
   "source": [
    "# query the data from sq; table using python\n",
    "\n",
    "# Execute a query\n",
    "cursor.execute(\"SELECT * From people\")\n",
    "\n",
    "#  Fetch all results correctly\n",
    "results = cursor.fetchall()  # \n",
    "\n",
    "#  Loop through the fetched results\n",
    "for row in results:\n",
    "    print(row)  # Print each row"
   ]
  },
  {
   "cell_type": "code",
   "execution_count": 27,
   "id": "de4458b7-fd80-4817-9f14-fb97499330e0",
   "metadata": {},
   "outputs": [
    {
     "data": {
      "text/html": [
       "<div>\n",
       "<style scoped>\n",
       "    .dataframe tbody tr th:only-of-type {\n",
       "        vertical-align: middle;\n",
       "    }\n",
       "\n",
       "    .dataframe tbody tr th {\n",
       "        vertical-align: top;\n",
       "    }\n",
       "\n",
       "    .dataframe thead th {\n",
       "        text-align: right;\n",
       "    }\n",
       "</style>\n",
       "<table border=\"1\" class=\"dataframe\">\n",
       "  <thead>\n",
       "    <tr style=\"text-align: right;\">\n",
       "      <th></th>\n",
       "      <th>0</th>\n",
       "      <th>1</th>\n",
       "      <th>2</th>\n",
       "      <th>3</th>\n",
       "    </tr>\n",
       "  </thead>\n",
       "  <tbody>\n",
       "    <tr>\n",
       "      <th>0</th>\n",
       "      <td>1</td>\n",
       "      <td>all</td>\n",
       "      <td>31</td>\n",
       "      <td>CANADA</td>\n",
       "    </tr>\n",
       "    <tr>\n",
       "      <th>1</th>\n",
       "      <td>2</td>\n",
       "      <td>all</td>\n",
       "      <td>31</td>\n",
       "      <td>CANADA</td>\n",
       "    </tr>\n",
       "    <tr>\n",
       "      <th>2</th>\n",
       "      <td>3</td>\n",
       "      <td>all</td>\n",
       "      <td>31</td>\n",
       "      <td>CANADA</td>\n",
       "    </tr>\n",
       "    <tr>\n",
       "      <th>3</th>\n",
       "      <td>4</td>\n",
       "      <td>John</td>\n",
       "      <td>25</td>\n",
       "      <td>USA</td>\n",
       "    </tr>\n",
       "    <tr>\n",
       "      <th>4</th>\n",
       "      <td>5</td>\n",
       "      <td>all</td>\n",
       "      <td>31</td>\n",
       "      <td>CANADA</td>\n",
       "    </tr>\n",
       "    <tr>\n",
       "      <th>5</th>\n",
       "      <td>6</td>\n",
       "      <td>John</td>\n",
       "      <td>25</td>\n",
       "      <td>USA</td>\n",
       "    </tr>\n",
       "    <tr>\n",
       "      <th>6</th>\n",
       "      <td>7</td>\n",
       "      <td>all</td>\n",
       "      <td>31</td>\n",
       "      <td>CANADA</td>\n",
       "    </tr>\n",
       "    <tr>\n",
       "      <th>7</th>\n",
       "      <td>8</td>\n",
       "      <td>John</td>\n",
       "      <td>25</td>\n",
       "      <td>USA</td>\n",
       "    </tr>\n",
       "  </tbody>\n",
       "</table>\n",
       "</div>"
      ],
      "text/plain": [
       "   0     1   2       3\n",
       "0  1   all  31  CANADA\n",
       "1  2   all  31  CANADA\n",
       "2  3   all  31  CANADA\n",
       "3  4  John  25     USA\n",
       "4  5   all  31  CANADA\n",
       "5  6  John  25     USA\n",
       "6  7   all  31  CANADA\n",
       "7  8  John  25     USA"
      ]
     },
     "execution_count": 27,
     "metadata": {},
     "output_type": "execute_result"
    }
   ],
   "source": [
    " import pandas as pd\n",
    "df =  pd.DataFrame(results)\n",
    "df"
   ]
  },
  {
   "cell_type": "code",
   "execution_count": 28,
   "id": "756983e5-358f-4c88-b3df-6b8774941de0",
   "metadata": {},
   "outputs": [],
   "source": [
    "# Close the connection\n",
    "connection.close()"
   ]
  },
  {
   "cell_type": "code",
   "execution_count": null,
   "id": "723fad80-21d7-4ad9-8840-cfd539dfa122",
   "metadata": {},
   "outputs": [],
   "source": [
    "# web scrapping \n",
    "-Beautiful soup (python library) -pip install beautifulsoup4\n",
    "-scrapy pip install scrapy"
   ]
  },
  {
   "cell_type": "code",
   "execution_count": null,
   "id": "6d7c4e20-5236-4e80-8c37-6055b257d949",
   "metadata": {},
   "outputs": [],
   "source": []
  }
 ],
 "metadata": {
  "kernelspec": {
   "display_name": "Python 3 (ipykernel)",
   "language": "python",
   "name": "python3"
  },
  "language_info": {
   "codemirror_mode": {
    "name": "ipython",
    "version": 3
   },
   "file_extension": ".py",
   "mimetype": "text/x-python",
   "name": "python",
   "nbconvert_exporter": "python",
   "pygments_lexer": "ipython3",
   "version": "3.12.7"
  }
 },
 "nbformat": 4,
 "nbformat_minor": 5
}
