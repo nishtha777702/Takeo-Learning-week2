{
 "cells": [
  {
   "cell_type": "code",
   "execution_count": 5,
   "id": "9525d53d-a615-4cf7-a008-8ccae0c67d1a",
   "metadata": {},
   "outputs": [
    {
     "name": "stdout",
     "output_type": "stream",
     "text": [
      "  coders Name  Marks\n",
      "0           N      2\n",
      "1           t      4\n",
      "2           y      5\n",
      "3           b      6\n"
     ]
    }
   ],
   "source": [
    "import pandas as pd  \n",
    "\n",
    "data = {  \n",
    "    'coders Name': ['N', 't', 'y', 'b'], # seperate element\n",
    "    'Marks': [2, 4, 5, 6]  \n",
    "}  \n",
    "\n",
    "df = pd.DataFrame(data)  \n",
    "\n",
    "print(df)"
   ]
  },
  {
   "cell_type": "code",
   "execution_count": 7,
   "id": "7046838a-34bf-4bb3-9532-2725d95a1151",
   "metadata": {},
   "outputs": [
    {
     "data": {
      "text/plain": [
       "4.5"
      ]
     },
     "execution_count": 7,
     "metadata": {},
     "output_type": "execute_result"
    }
   ],
   "source": [
    "# median is a two step\n",
    "#1- sort the data\n",
    "#2- find the mid value\n",
    "\n",
    "median_marks =  df['Marks'].median()\n",
    "median_marks"
   ]
  },
  {
   "cell_type": "markdown",
   "id": "5e2bec92-63f2-4047-ac96-ff9765b2acc2",
   "metadata": {},
   "source": [
    "# Box plot \n",
    "1. Minimum - smallest value excluding outliers\n",
    "Q1 -25th percentile, mid value b/w min and median\n",
    "Q2 -median - 50th percentile , mid value of data set\n",
    "Q3 - 75th percentile , mid value of median and max\n",
    "max - largest value excluding outliers\n",
    "IQR q3-q1\n",
    "outliers -> q1-1.5*IQR\n",
    "         ->q3+1.5*IQR "
   ]
  },
  {
   "cell_type": "markdown",
   "id": "6883cdc9-228a-4bbc-a4e1-1c8521f79e45",
   "metadata": {},
   "source": [
    "import pandas as pd\n",
    "data2 = {\n",
    "    \"Name\": [\"Nish\", \"Ish\", \"Prajwal\", \"Rajesh\"],\n",
    "    \"Age\": [30, 30, 45, 50]\n",
    "}\n",
    "df = pd.DataFrame(data2)\n",
    "print(df)"
   ]
  },
  {
   "cell_type": "markdown",
   "id": "fd28beff-295c-4b2d-b5d7-06b88ff76aac",
   "metadata": {},
   "source": [
    "Task Day 4 : Go to the given website and download the rankings dataset. Then perform the given task according to the instructions.\n",
    "https://www.kaggle.com/datasets/matheusgratz/world-university-rankings-2021\n",
    "- instructions\n",
    "1. Inspect the dataset.\n",
    "2. Handle missing data choosing the best imputation method.\n",
    "3. Detect and remove duplicates\n",
    "4. Detect and remove outliers (using either Z-scores or IQR.)"
   ]
  },
  {
   "cell_type": "code",
   "execution_count": 1,
   "id": "0fcf4093-4248-48d1-bc06-11aa017f86a0",
   "metadata": {},
   "outputs": [
    {
     "name": "stdout",
     "output_type": "stream",
     "text": [
      "      ranking                                           title        location  \\\n",
      "0           1                            University of Oxford  United Kingdom   \n",
      "1           2                             Stanford University   United States   \n",
      "2           3                              Harvard University   United States   \n",
      "3           4              California Institute of Technology   United States   \n",
      "4           5           Massachusetts Institute of Technology   United States   \n",
      "...       ...                                             ...             ...   \n",
      "1521     1522                              Yuan Ze University          Taiwan   \n",
      "1522     1523  Yuriy Fedkovych Chernivtsi National University         Ukraine   \n",
      "1523     1524                              Zagazig University           Egypt   \n",
      "1524     1525                            University of Zagreb         Croatia   \n",
      "1525     1526                            University of Žilina        Slovakia   \n",
      "\n",
      "     number students  students staff ratio perc intl students gender ratio  \n",
      "0             20,774                  11.1                41%      46 : 54  \n",
      "1             16,223                   7.4                23%      44 : 56  \n",
      "2             21,261                   9.3                25%      49 : 51  \n",
      "3              2,238                   6.3                33%      36 : 64  \n",
      "4             11,276                   8.4                34%      39 : 61  \n",
      "...              ...                   ...                ...          ...  \n",
      "1521           8,188                  19.7                 7%      42 : 58  \n",
      "1522          12,616                  10.7                 0%      57 : 43  \n",
      "1523         156,270                  24.4                 2%      54 : 46  \n",
      "1524          59,336                  15.3                 3%      59 : 41  \n",
      "1525           7,136                  11.7                 2%      34 : 66  \n",
      "\n",
      "[1526 rows x 7 columns]\n"
     ]
    }
   ],
   "source": [
    "import pandas as pd\n",
    "\n",
    "# Load the dataset\n",
    "df = pd.read_csv(r\"C:\\Users\\Acer\\Documents\\BDA3.3\\week 2\\University.csv\")\n",
    "print(df) "
   ]
  },
  {
   "cell_type": "code",
   "execution_count": 2,
   "id": "e58499ab-9765-42bb-ab89-6f1e01232ca1",
   "metadata": {},
   "outputs": [
    {
     "name": "stdout",
     "output_type": "stream",
     "text": [
      "<class 'pandas.core.frame.DataFrame'>\n",
      "RangeIndex: 1526 entries, 0 to 1525\n",
      "Data columns (total 7 columns):\n",
      " #   Column                Non-Null Count  Dtype  \n",
      "---  ------                --------------  -----  \n",
      " 0   ranking               1526 non-null   int64  \n",
      " 1   title                 1526 non-null   object \n",
      " 2   location              1526 non-null   object \n",
      " 3   number students       1526 non-null   object \n",
      " 4   students staff ratio  1526 non-null   float64\n",
      " 5   perc intl students    1526 non-null   object \n",
      " 6   gender ratio          1453 non-null   object \n",
      "dtypes: float64(1), int64(1), object(5)\n",
      "memory usage: 83.6+ KB\n",
      "None\n"
     ]
    }
   ],
   "source": [
    "# show the basic information about the data set for eg : column ,non null ,counts\n",
    "print(df.info())"
   ]
  },
  {
   "cell_type": "code",
   "execution_count": 3,
   "id": "2fc024ee-8441-4775-9ac5-91bfe9c1438f",
   "metadata": {},
   "outputs": [
    {
     "name": "stdout",
     "output_type": "stream",
     "text": [
      "<class 'pandas.core.frame.DataFrame'>\n",
      "RangeIndex: 1526 entries, 0 to 1525\n",
      "Data columns (total 7 columns):\n",
      " #   Column                Non-Null Count  Dtype  \n",
      "---  ------                --------------  -----  \n",
      " 0   ranking               1526 non-null   int64  \n",
      " 1   title                 1526 non-null   object \n",
      " 2   location              1526 non-null   object \n",
      " 3   number students       1526 non-null   object \n",
      " 4   students staff ratio  1526 non-null   float64\n",
      " 5   perc intl students    1526 non-null   object \n",
      " 6   gender ratio          1453 non-null   object \n",
      "dtypes: float64(1), int64(1), object(5)\n",
      "memory usage: 83.6+ KB\n",
      "None\n"
     ]
    }
   ],
   "source": [
    "# show statistical summary of numerical column\n",
    "print(df.info())"
   ]
  },
  {
   "cell_type": "code",
   "execution_count": 4,
   "id": "99ee9da3-eda0-4199-9954-fb6218bdad9f",
   "metadata": {},
   "outputs": [
    {
     "name": "stdout",
     "output_type": "stream",
     "text": [
      "           ranking  students staff ratio\n",
      "count  1526.000000           1526.000000\n",
      "mean    763.500000             18.778571\n",
      "std     440.662569             13.818076\n",
      "min       1.000000              0.900000\n",
      "25%     382.250000             12.200000\n",
      "50%     763.500000             16.100000\n",
      "75%    1144.750000             21.875000\n",
      "max    1526.000000            339.100000\n"
     ]
    }
   ],
   "source": [
    "# Show statistical summary of numerical columns\n",
    "print(df.describe())"
   ]
  },
  {
   "cell_type": "code",
   "execution_count": 5,
   "id": "f7f880f5-58bf-4b9b-88a8-f34519495c97",
   "metadata": {},
   "outputs": [
    {
     "name": "stdout",
     "output_type": "stream",
     "text": [
      "ranking                  0\n",
      "title                    0\n",
      "location                 0\n",
      "number students          0\n",
      "students staff ratio     0\n",
      "perc intl students       0\n",
      "gender ratio            73\n",
      "dtype: int64\n"
     ]
    }
   ],
   "source": [
    "#now handling  Missing Data\n",
    "# Inspect Missing Data\n",
    "print(df.isnull().sum()) #count the missing values in each column"
   ]
  },
  {
   "cell_type": "code",
   "execution_count": 6,
   "id": "c4247f06-bbc7-4b27-b1c5-7e2991069b1e",
   "metadata": {},
   "outputs": [
    {
     "name": "stdout",
     "output_type": "stream",
     "text": [
      "object\n"
     ]
    }
   ],
   "source": [
    "print(df['gender ratio'].dtype)"
   ]
  },
  {
   "cell_type": "code",
   "execution_count": 7,
   "id": "6d2a479f-78db-4f51-aa03-4ead9edaa3bc",
   "metadata": {},
   "outputs": [
    {
     "name": "stdout",
     "output_type": "stream",
     "text": [
      "0    46 : 54\n",
      "1    44 : 56\n",
      "2    49 : 51\n",
      "3    36 : 64\n",
      "4    39 : 61\n",
      "Name: gender ratio, dtype: object\n"
     ]
    }
   ],
   "source": [
    "print(df['gender ratio'].head())"
   ]
  },
  {
   "cell_type": "code",
   "execution_count": 8,
   "id": "25febe86-e983-46db-b197-c5d9574a9f92",
   "metadata": {},
   "outputs": [],
   "source": [
    "\n",
    "# Convert 'gender ratio' column to numeric, coercing errors into NaN\n",
    "df['gender ratio'] = pd.to_numeric(df['gender ratio'], errors='coerce')"
   ]
  },
  {
   "cell_type": "code",
   "execution_count": 9,
   "id": "2fee8872-335f-4c18-aee7-83124da89ebd",
   "metadata": {},
   "outputs": [],
   "source": [
    "# filling in the missing \n",
    "df['gender ratio'] = df['gender ratio'].fillna(df['gender ratio'].mean())"
   ]
  },
  {
   "cell_type": "code",
   "execution_count": 10,
   "id": "49946cfe-3163-4f3e-a737-441bca6b71be",
   "metadata": {},
   "outputs": [
    {
     "name": "stdout",
     "output_type": "stream",
     "text": [
      "ranking                    0\n",
      "title                      0\n",
      "location                   0\n",
      "number students            0\n",
      "students staff ratio       0\n",
      "perc intl students         0\n",
      "gender ratio            1526\n",
      "dtype: int64\n"
     ]
    }
   ],
   "source": [
    "print(df.isnull().sum())"
   ]
  },
  {
   "cell_type": "code",
   "execution_count": 14,
   "id": "c3dab57f-0152-4aea-9950-07a862788a64",
   "metadata": {},
   "outputs": [
    {
     "name": "stdout",
     "output_type": "stream",
     "text": [
      "Lower bound: 752.5\n",
      "Upper bound: 988.5\n",
      "Rows before removing outliers: 9\n",
      "Rows after removing outliers: 7\n",
      "     ranking                               title        location  \\\n",
      "240      241                       Télécom Paris          France   \n",
      "253      254  Brighton and Sussex Medical School  United Kingdom   \n",
      "589      590                    Télécom SudParis          France   \n",
      "693      694           Kansai Medical University           Japan   \n",
      "738      739               Nippon Medical School           Japan   \n",
      "\n",
      "     number students  students staff ratio perc intl students  gender ratio  \n",
      "240            897.0                   5.4                43%           NaN  \n",
      "253            900.0                   9.3                14%           NaN  \n",
      "589            960.0                  11.3                34%           NaN  \n",
      "693            841.0                   1.1                 3%           NaN  \n",
      "738            850.0                   0.9                 0%           NaN  \n"
     ]
    }
   ],
   "source": [
    "# Convert 'number students' to numeric, coercing errors into NaN\n",
    "df['number students'] = pd.to_numeric(df['number students'], errors='coerce')\n",
    "\n",
    "# Drop rows where 'number students' is NaN (if any)\n",
    "df = df.dropna(subset=['number students'])\n",
    "\n",
    "# Calculate Q1 (25th percentile) and Q3 (75th percentile)\n",
    "Q1 = df['number students'].quantile(0.25)\n",
    "Q3 = df['number students'].quantile(0.75)\n",
    "\n",
    "# Calculate the IQR (Interquartile Range)\n",
    "IQR = Q3 - Q1\n",
    "\n",
    "# Define the outlier bounds using 1.5 * IQR rule\n",
    "lower_bound = Q1 - 1.5 * IQR\n",
    "upper_bound = Q3 + 1.5 * IQR\n",
    "\n",
    "# Print outlier bounds to inspect\n",
    "print(f\"Lower bound: {lower_bound}\")\n",
    "print(f\"Upper bound: {upper_bound}\")\n",
    "\n",
    "# Filter the dataset to remove rows where the 'number students' column has outliers\n",
    "df_filtered = df[(df['number students'] >= lower_bound) & (df['number students'] <= upper_bound)]\n",
    "\n",
    "# Show the number of rows before and after filtering outliers\n",
    "print(f\"Rows before removing outliers: {len(df)}\")\n",
    "print(f\"Rows after removing outliers: {len(df_filtered)}\")\n",
    "\n",
    "# Optionally, you can print the first few rows to inspect the cleaned data\n",
    "print(df_filtered.head()) "
   ]
  },
  {
   "cell_type": "code",
   "execution_count": 16,
   "id": "09b0f647-7a83-49a4-8d63-bd5e4528a70b",
   "metadata": {},
   "outputs": [],
   "source": [
    "# Save the cleaned dataset to a new CSV file\n",
    "df.to_csv('cleaned_ranking.csv', index=False)"
   ]
  },
  {
   "cell_type": "code",
   "execution_count": null,
   "id": "1915f20f-de00-46ca-a101-fb415c40b882",
   "metadata": {},
   "outputs": [],
   "source": []
  }
 ],
 "metadata": {
  "kernelspec": {
   "display_name": "Python 3 (ipykernel)",
   "language": "python",
   "name": "python3"
  },
  "language_info": {
   "codemirror_mode": {
    "name": "ipython",
    "version": 3
   },
   "file_extension": ".py",
   "mimetype": "text/x-python",
   "name": "python",
   "nbconvert_exporter": "python",
   "pygments_lexer": "ipython3",
   "version": "3.12.7"
  }
 },
 "nbformat": 4,
 "nbformat_minor": 5
}
